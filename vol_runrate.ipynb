{
 "cells": [
  {
   "cell_type": "code",
   "execution_count": 266,
   "id": "2f982ae1",
   "metadata": {},
   "outputs": [],
   "source": [
    "import pandas as pd\n",
    "import os\n",
    "import numpy as np\n",
    "import datetime\n",
    "import warnings\n",
    "warnings.filterwarnings('ignore')"
   ]
  },
  {
   "cell_type": "code",
   "execution_count": 145,
   "id": "fd6f1c12",
   "metadata": {},
   "outputs": [],
   "source": [
    "DAYS_IN_MONTH = 31  #assuming equal number of days in each month\n",
    "TODAY = datetime.datetime(2023, 3, 26)"
   ]
  },
  {
   "cell_type": "markdown",
   "id": "965f2305",
   "metadata": {},
   "source": [
    "### Convert the csv file directly to excel since reading the csv file raises some errors"
   ]
  },
  {
   "cell_type": "code",
   "execution_count": 55,
   "id": "df68c456",
   "metadata": {},
   "outputs": [],
   "source": [
    "csv_file = 'historic_transactions.csv'\n",
    "excel_filename = os.path.splitext(csv_file)[0]+'.xlsx'\n",
    "to_excel = os.rename(csv_file, excel_filename)"
   ]
  },
  {
   "cell_type": "code",
   "execution_count": 57,
   "id": "8a383baf",
   "metadata": {},
   "outputs": [],
   "source": [
    "db = pd.read_excel('historic_transactions.xlsx')"
   ]
  },
  {
   "cell_type": "code",
   "execution_count": 58,
   "id": "4b301a2e",
   "metadata": {},
   "outputs": [
    {
     "data": {
      "text/html": [
       "<div>\n",
       "<style scoped>\n",
       "    .dataframe tbody tr th:only-of-type {\n",
       "        vertical-align: middle;\n",
       "    }\n",
       "\n",
       "    .dataframe tbody tr th {\n",
       "        vertical-align: top;\n",
       "    }\n",
       "\n",
       "    .dataframe thead th {\n",
       "        text-align: right;\n",
       "    }\n",
       "</style>\n",
       "<table border=\"1\" class=\"dataframe\">\n",
       "  <thead>\n",
       "    <tr style=\"text-align: right;\">\n",
       "      <th></th>\n",
       "      <th>transaction_date</th>\n",
       "      <th>transaction_id</th>\n",
       "      <th>transaction_amount</th>\n",
       "    </tr>\n",
       "  </thead>\n",
       "  <tbody>\n",
       "    <tr>\n",
       "      <th>912</th>\n",
       "      <td>2023-02-12</td>\n",
       "      <td>8IJ9cRaxuaa1wMYs70bS</td>\n",
       "      <td>1300</td>\n",
       "    </tr>\n",
       "    <tr>\n",
       "      <th>590</th>\n",
       "      <td>2023-01-16</td>\n",
       "      <td>m4IWRQw9mhQjqhcj8YkP</td>\n",
       "      <td>1500</td>\n",
       "    </tr>\n",
       "    <tr>\n",
       "      <th>894</th>\n",
       "      <td>2023-02-22</td>\n",
       "      <td>IsB9VPbns6jrLN4Sujt2</td>\n",
       "      <td>750</td>\n",
       "    </tr>\n",
       "  </tbody>\n",
       "</table>\n",
       "</div>"
      ],
      "text/plain": [
       "    transaction_date        transaction_id  transaction_amount\n",
       "912       2023-02-12  8IJ9cRaxuaa1wMYs70bS                1300\n",
       "590       2023-01-16  m4IWRQw9mhQjqhcj8YkP                1500\n",
       "894       2023-02-22  IsB9VPbns6jrLN4Sujt2                 750"
      ]
     },
     "execution_count": 58,
     "metadata": {},
     "output_type": "execute_result"
    }
   ],
   "source": [
    "db.sample(3)"
   ]
  },
  {
   "cell_type": "code",
   "execution_count": 59,
   "id": "0e638268",
   "metadata": {},
   "outputs": [
    {
     "data": {
      "text/plain": [
       "(1109, 3)"
      ]
     },
     "execution_count": 59,
     "metadata": {},
     "output_type": "execute_result"
    }
   ],
   "source": [
    "db.shape"
   ]
  },
  {
   "cell_type": "code",
   "execution_count": 60,
   "id": "6adc3c91",
   "metadata": {},
   "outputs": [
    {
     "data": {
      "text/plain": [
       "transaction_date      datetime64[ns]\n",
       "transaction_id                object\n",
       "transaction_amount             int64\n",
       "dtype: object"
      ]
     },
     "execution_count": 60,
     "metadata": {},
     "output_type": "execute_result"
    }
   ],
   "source": [
    "db.dtypes"
   ]
  },
  {
   "cell_type": "code",
   "execution_count": 64,
   "id": "2e7056d3",
   "metadata": {},
   "outputs": [
    {
     "data": {
      "text/plain": [
       "Timestamp('2022-09-03 00:00:00')"
      ]
     },
     "execution_count": 64,
     "metadata": {},
     "output_type": "execute_result"
    }
   ],
   "source": [
    "db['transaction_date'].min()"
   ]
  },
  {
   "cell_type": "markdown",
   "id": "3dd82fe3",
   "metadata": {},
   "source": [
    "### Calculate the number of days left until the end of March as `n`"
   ]
  },
  {
   "cell_type": "code",
   "execution_count": 85,
   "id": "af4976ea",
   "metadata": {},
   "outputs": [],
   "source": [
    "# month_name -- name of the month gotten from the datetime..\n",
    "\n",
    "db['transaction_date'] = pd.to_datetime(db['transaction_date'])"
   ]
  },
  {
   "cell_type": "code",
   "execution_count": 86,
   "id": "e8906335",
   "metadata": {},
   "outputs": [],
   "source": [
    "db['month_name'] = db['transaction_date'].dt.strftime('%B')"
   ]
  },
  {
   "cell_type": "code",
   "execution_count": 87,
   "id": "2d1a7f34",
   "metadata": {},
   "outputs": [
    {
     "data": {
      "text/html": [
       "<div>\n",
       "<style scoped>\n",
       "    .dataframe tbody tr th:only-of-type {\n",
       "        vertical-align: middle;\n",
       "    }\n",
       "\n",
       "    .dataframe tbody tr th {\n",
       "        vertical-align: top;\n",
       "    }\n",
       "\n",
       "    .dataframe thead th {\n",
       "        text-align: right;\n",
       "    }\n",
       "</style>\n",
       "<table border=\"1\" class=\"dataframe\">\n",
       "  <thead>\n",
       "    <tr style=\"text-align: right;\">\n",
       "      <th></th>\n",
       "      <th>transaction_date</th>\n",
       "      <th>transaction_id</th>\n",
       "      <th>transaction_amount</th>\n",
       "      <th>month_name</th>\n",
       "    </tr>\n",
       "  </thead>\n",
       "  <tbody>\n",
       "    <tr>\n",
       "      <th>0</th>\n",
       "      <td>2022-09-17</td>\n",
       "      <td>WeKuSlJdWG0OfbkteXN5</td>\n",
       "      <td>1000</td>\n",
       "      <td>September</td>\n",
       "    </tr>\n",
       "    <tr>\n",
       "      <th>1</th>\n",
       "      <td>2022-09-16</td>\n",
       "      <td>bypPVdMn7iydzNwsYBZl</td>\n",
       "      <td>2000</td>\n",
       "      <td>September</td>\n",
       "    </tr>\n",
       "    <tr>\n",
       "      <th>2</th>\n",
       "      <td>2022-09-15</td>\n",
       "      <td>k7ZEkPT3nV078GbXdjX9</td>\n",
       "      <td>2000</td>\n",
       "      <td>September</td>\n",
       "    </tr>\n",
       "    <tr>\n",
       "      <th>3</th>\n",
       "      <td>2022-09-22</td>\n",
       "      <td>KSKjgWG5f3vFj7mCh6Sf</td>\n",
       "      <td>1500</td>\n",
       "      <td>September</td>\n",
       "    </tr>\n",
       "    <tr>\n",
       "      <th>4</th>\n",
       "      <td>2022-09-16</td>\n",
       "      <td>6NkQBzah4sUEWaO31gQv</td>\n",
       "      <td>1000</td>\n",
       "      <td>September</td>\n",
       "    </tr>\n",
       "  </tbody>\n",
       "</table>\n",
       "</div>"
      ],
      "text/plain": [
       "  transaction_date        transaction_id  transaction_amount month_name\n",
       "0       2022-09-17  WeKuSlJdWG0OfbkteXN5                1000  September\n",
       "1       2022-09-16  bypPVdMn7iydzNwsYBZl                2000  September\n",
       "2       2022-09-15  k7ZEkPT3nV078GbXdjX9                2000  September\n",
       "3       2022-09-22  KSKjgWG5f3vFj7mCh6Sf                1500  September\n",
       "4       2022-09-16  6NkQBzah4sUEWaO31gQv                1000  September"
      ]
     },
     "execution_count": 87,
     "metadata": {},
     "output_type": "execute_result"
    }
   ],
   "source": [
    "db.head()"
   ]
  },
  {
   "cell_type": "markdown",
   "id": "f356e3ac",
   "metadata": {},
   "source": [
    "### Get the subset which contains only the month of March"
   ]
  },
  {
   "cell_type": "code",
   "execution_count": 89,
   "id": "1acd1808",
   "metadata": {},
   "outputs": [],
   "source": [
    "march_df = db.query(\"month_name == 'March'\")"
   ]
  },
  {
   "cell_type": "code",
   "execution_count": 90,
   "id": "9bf53ca9",
   "metadata": {},
   "outputs": [
    {
     "data": {
      "text/html": [
       "<div>\n",
       "<style scoped>\n",
       "    .dataframe tbody tr th:only-of-type {\n",
       "        vertical-align: middle;\n",
       "    }\n",
       "\n",
       "    .dataframe tbody tr th {\n",
       "        vertical-align: top;\n",
       "    }\n",
       "\n",
       "    .dataframe thead th {\n",
       "        text-align: right;\n",
       "    }\n",
       "</style>\n",
       "<table border=\"1\" class=\"dataframe\">\n",
       "  <thead>\n",
       "    <tr style=\"text-align: right;\">\n",
       "      <th></th>\n",
       "      <th>transaction_date</th>\n",
       "      <th>transaction_id</th>\n",
       "      <th>transaction_amount</th>\n",
       "      <th>month_name</th>\n",
       "    </tr>\n",
       "  </thead>\n",
       "  <tbody>\n",
       "    <tr>\n",
       "      <th>641</th>\n",
       "      <td>2023-03-20</td>\n",
       "      <td>IAJlw0mHSeTni5fsMhPS</td>\n",
       "      <td>600</td>\n",
       "      <td>March</td>\n",
       "    </tr>\n",
       "    <tr>\n",
       "      <th>642</th>\n",
       "      <td>2023-03-12</td>\n",
       "      <td>Glyn0oc4p4z1dOVJtS3Z</td>\n",
       "      <td>2600</td>\n",
       "      <td>March</td>\n",
       "    </tr>\n",
       "    <tr>\n",
       "      <th>643</th>\n",
       "      <td>2023-03-19</td>\n",
       "      <td>8eSwFg5jKm3zlpZpfILr</td>\n",
       "      <td>3478</td>\n",
       "      <td>March</td>\n",
       "    </tr>\n",
       "    <tr>\n",
       "      <th>644</th>\n",
       "      <td>2023-03-12</td>\n",
       "      <td>jxry1UtcRUwndjUpcULl</td>\n",
       "      <td>1900</td>\n",
       "      <td>March</td>\n",
       "    </tr>\n",
       "    <tr>\n",
       "      <th>645</th>\n",
       "      <td>2023-03-16</td>\n",
       "      <td>krJoJ9uYSADaV9Bq7Ayk</td>\n",
       "      <td>2300</td>\n",
       "      <td>March</td>\n",
       "    </tr>\n",
       "    <tr>\n",
       "      <th>...</th>\n",
       "      <td>...</td>\n",
       "      <td>...</td>\n",
       "      <td>...</td>\n",
       "      <td>...</td>\n",
       "    </tr>\n",
       "    <tr>\n",
       "      <th>845</th>\n",
       "      <td>2023-03-24</td>\n",
       "      <td>qTWHVZ4hWMrblQzjm68h</td>\n",
       "      <td>709</td>\n",
       "      <td>March</td>\n",
       "    </tr>\n",
       "    <tr>\n",
       "      <th>846</th>\n",
       "      <td>2023-03-14</td>\n",
       "      <td>ymVMsNy4PUzv4Ullq3H1</td>\n",
       "      <td>2500</td>\n",
       "      <td>March</td>\n",
       "    </tr>\n",
       "    <tr>\n",
       "      <th>847</th>\n",
       "      <td>2023-03-17</td>\n",
       "      <td>LhMEw1oa9BNpk9esEYf5</td>\n",
       "      <td>2200</td>\n",
       "      <td>March</td>\n",
       "    </tr>\n",
       "    <tr>\n",
       "      <th>848</th>\n",
       "      <td>2023-03-12</td>\n",
       "      <td>lgbAoSnNaJA3hjn9KOab</td>\n",
       "      <td>2200</td>\n",
       "      <td>March</td>\n",
       "    </tr>\n",
       "    <tr>\n",
       "      <th>849</th>\n",
       "      <td>2023-03-15</td>\n",
       "      <td>7ztVzSiaePsp0Nh7uXR1</td>\n",
       "      <td>1700</td>\n",
       "      <td>March</td>\n",
       "    </tr>\n",
       "  </tbody>\n",
       "</table>\n",
       "<p>209 rows × 4 columns</p>\n",
       "</div>"
      ],
      "text/plain": [
       "    transaction_date        transaction_id  transaction_amount month_name\n",
       "641       2023-03-20  IAJlw0mHSeTni5fsMhPS                 600      March\n",
       "642       2023-03-12  Glyn0oc4p4z1dOVJtS3Z                2600      March\n",
       "643       2023-03-19  8eSwFg5jKm3zlpZpfILr                3478      March\n",
       "644       2023-03-12  jxry1UtcRUwndjUpcULl                1900      March\n",
       "645       2023-03-16  krJoJ9uYSADaV9Bq7Ayk                2300      March\n",
       "..               ...                   ...                 ...        ...\n",
       "845       2023-03-24  qTWHVZ4hWMrblQzjm68h                 709      March\n",
       "846       2023-03-14  ymVMsNy4PUzv4Ullq3H1                2500      March\n",
       "847       2023-03-17  LhMEw1oa9BNpk9esEYf5                2200      March\n",
       "848       2023-03-12  lgbAoSnNaJA3hjn9KOab                2200      March\n",
       "849       2023-03-15  7ztVzSiaePsp0Nh7uXR1                1700      March\n",
       "\n",
       "[209 rows x 4 columns]"
      ]
     },
     "execution_count": 90,
     "metadata": {},
     "output_type": "execute_result"
    }
   ],
   "source": [
    "march_df"
   ]
  },
  {
   "cell_type": "code",
   "execution_count": 146,
   "id": "5c9f001f",
   "metadata": {},
   "outputs": [
    {
     "data": {
      "text/plain": [
       "5"
      ]
     },
     "execution_count": 146,
     "metadata": {},
     "output_type": "execute_result"
    }
   ],
   "source": [
    "# Get the number of days left for March to end;\n",
    "\n",
    "n = DAYS_IN_MONTH - TODAY.day\n",
    "n"
   ]
  },
  {
   "cell_type": "markdown",
   "id": "641668b8",
   "metadata": {},
   "source": [
    "### Start calculating the volume for each month starting from September 2022 to February 2023"
   ]
  },
  {
   "cell_type": "code",
   "execution_count": 139,
   "id": "6ed7bc76",
   "metadata": {},
   "outputs": [],
   "source": [
    "sept_to_feb = db.query(\"month_name != 'March'\")"
   ]
  },
  {
   "cell_type": "code",
   "execution_count": 141,
   "id": "e0cf899d",
   "metadata": {},
   "outputs": [
    {
     "data": {
      "text/plain": [
       "(900, 4)"
      ]
     },
     "execution_count": 141,
     "metadata": {},
     "output_type": "execute_result"
    }
   ],
   "source": [
    "sept_to_feb.shape"
   ]
  },
  {
   "cell_type": "code",
   "execution_count": 153,
   "id": "dff907d7",
   "metadata": {},
   "outputs": [],
   "source": [
    "volume_of_months = sept_to_feb.groupby('month_name').sum('transaction_amount').reset_index()\n",
    "volume_of_months.rename(columns={'transaction_amount': 'total_volume'}, inplace=True)"
   ]
  },
  {
   "cell_type": "code",
   "execution_count": 154,
   "id": "6f666d3e",
   "metadata": {},
   "outputs": [],
   "source": [
    "volume_of_months['volume_run_rate'] = volume_of_months['total_volume']/DAYS_IN_MONTH"
   ]
  },
  {
   "cell_type": "code",
   "execution_count": 155,
   "id": "48331dd5",
   "metadata": {},
   "outputs": [
    {
     "data": {
      "text/html": [
       "<div>\n",
       "<style scoped>\n",
       "    .dataframe tbody tr th:only-of-type {\n",
       "        vertical-align: middle;\n",
       "    }\n",
       "\n",
       "    .dataframe tbody tr th {\n",
       "        vertical-align: top;\n",
       "    }\n",
       "\n",
       "    .dataframe thead th {\n",
       "        text-align: right;\n",
       "    }\n",
       "</style>\n",
       "<table border=\"1\" class=\"dataframe\">\n",
       "  <thead>\n",
       "    <tr style=\"text-align: right;\">\n",
       "      <th></th>\n",
       "      <th>month_name</th>\n",
       "      <th>total_volume</th>\n",
       "      <th>volume_run_rate</th>\n",
       "    </tr>\n",
       "  </thead>\n",
       "  <tbody>\n",
       "    <tr>\n",
       "      <th>0</th>\n",
       "      <td>December</td>\n",
       "      <td>289850</td>\n",
       "      <td>9350.000000</td>\n",
       "    </tr>\n",
       "    <tr>\n",
       "      <th>1</th>\n",
       "      <td>February</td>\n",
       "      <td>414240</td>\n",
       "      <td>13362.580645</td>\n",
       "    </tr>\n",
       "    <tr>\n",
       "      <th>2</th>\n",
       "      <td>January</td>\n",
       "      <td>294150</td>\n",
       "      <td>9488.709677</td>\n",
       "    </tr>\n",
       "    <tr>\n",
       "      <th>3</th>\n",
       "      <td>November</td>\n",
       "      <td>176800</td>\n",
       "      <td>5703.225806</td>\n",
       "    </tr>\n",
       "    <tr>\n",
       "      <th>4</th>\n",
       "      <td>October</td>\n",
       "      <td>160900</td>\n",
       "      <td>5190.322581</td>\n",
       "    </tr>\n",
       "    <tr>\n",
       "      <th>5</th>\n",
       "      <td>September</td>\n",
       "      <td>132350</td>\n",
       "      <td>4269.354839</td>\n",
       "    </tr>\n",
       "  </tbody>\n",
       "</table>\n",
       "</div>"
      ],
      "text/plain": [
       "  month_name  total_volume  volume_run_rate\n",
       "0   December        289850      9350.000000\n",
       "1   February        414240     13362.580645\n",
       "2    January        294150      9488.709677\n",
       "3   November        176800      5703.225806\n",
       "4    October        160900      5190.322581\n",
       "5  September        132350      4269.354839"
      ]
     },
     "execution_count": 155,
     "metadata": {},
     "output_type": "execute_result"
    }
   ],
   "source": [
    "volume_of_months"
   ]
  },
  {
   "cell_type": "markdown",
   "id": "c05f988e",
   "metadata": {},
   "source": [
    "### Get the volume run rate of each month `n` days before the end of that month"
   ]
  },
  {
   "cell_type": "code",
   "execution_count": 157,
   "id": "a2fedabc",
   "metadata": {},
   "outputs": [],
   "source": [
    "# get the subset of the data that falls in the 5 days to the end of month.. thus from day 1-26 of every month.\n",
    "\n",
    "n_days_before_monthend = db[(db['transaction_date'].dt.day >=1) & (db['transaction_date'].dt.day <=26)]"
   ]
  },
  {
   "cell_type": "code",
   "execution_count": 158,
   "id": "c8dcca5f",
   "metadata": {},
   "outputs": [
    {
     "data": {
      "text/html": [
       "<div>\n",
       "<style scoped>\n",
       "    .dataframe tbody tr th:only-of-type {\n",
       "        vertical-align: middle;\n",
       "    }\n",
       "\n",
       "    .dataframe tbody tr th {\n",
       "        vertical-align: top;\n",
       "    }\n",
       "\n",
       "    .dataframe thead th {\n",
       "        text-align: right;\n",
       "    }\n",
       "</style>\n",
       "<table border=\"1\" class=\"dataframe\">\n",
       "  <thead>\n",
       "    <tr style=\"text-align: right;\">\n",
       "      <th></th>\n",
       "      <th>transaction_date</th>\n",
       "      <th>transaction_id</th>\n",
       "      <th>transaction_amount</th>\n",
       "      <th>month_name</th>\n",
       "    </tr>\n",
       "  </thead>\n",
       "  <tbody>\n",
       "    <tr>\n",
       "      <th>0</th>\n",
       "      <td>2022-09-17</td>\n",
       "      <td>WeKuSlJdWG0OfbkteXN5</td>\n",
       "      <td>1000</td>\n",
       "      <td>September</td>\n",
       "    </tr>\n",
       "    <tr>\n",
       "      <th>1</th>\n",
       "      <td>2022-09-16</td>\n",
       "      <td>bypPVdMn7iydzNwsYBZl</td>\n",
       "      <td>2000</td>\n",
       "      <td>September</td>\n",
       "    </tr>\n",
       "    <tr>\n",
       "      <th>2</th>\n",
       "      <td>2022-09-15</td>\n",
       "      <td>k7ZEkPT3nV078GbXdjX9</td>\n",
       "      <td>2000</td>\n",
       "      <td>September</td>\n",
       "    </tr>\n",
       "    <tr>\n",
       "      <th>3</th>\n",
       "      <td>2022-09-22</td>\n",
       "      <td>KSKjgWG5f3vFj7mCh6Sf</td>\n",
       "      <td>1500</td>\n",
       "      <td>September</td>\n",
       "    </tr>\n",
       "    <tr>\n",
       "      <th>4</th>\n",
       "      <td>2022-09-16</td>\n",
       "      <td>6NkQBzah4sUEWaO31gQv</td>\n",
       "      <td>1000</td>\n",
       "      <td>September</td>\n",
       "    </tr>\n",
       "  </tbody>\n",
       "</table>\n",
       "</div>"
      ],
      "text/plain": [
       "  transaction_date        transaction_id  transaction_amount month_name\n",
       "0       2022-09-17  WeKuSlJdWG0OfbkteXN5                1000  September\n",
       "1       2022-09-16  bypPVdMn7iydzNwsYBZl                2000  September\n",
       "2       2022-09-15  k7ZEkPT3nV078GbXdjX9                2000  September\n",
       "3       2022-09-22  KSKjgWG5f3vFj7mCh6Sf                1500  September\n",
       "4       2022-09-16  6NkQBzah4sUEWaO31gQv                1000  September"
      ]
     },
     "execution_count": 158,
     "metadata": {},
     "output_type": "execute_result"
    }
   ],
   "source": [
    "n_days_before_monthend.head()"
   ]
  },
  {
   "cell_type": "code",
   "execution_count": 159,
   "id": "2f9e8e81",
   "metadata": {},
   "outputs": [
    {
     "data": {
      "text/plain": [
       "(1090, 4)"
      ]
     },
     "execution_count": 159,
     "metadata": {},
     "output_type": "execute_result"
    }
   ],
   "source": [
    "n_days_before_monthend.shape"
   ]
  },
  {
   "cell_type": "markdown",
   "id": "f6fd61bc",
   "metadata": {},
   "source": [
    "### Get the volume run rate for each month 5 days before the end of the month"
   ]
  },
  {
   "cell_type": "code",
   "execution_count": 168,
   "id": "d9893d59",
   "metadata": {},
   "outputs": [
    {
     "data": {
      "text/plain": [
       "26"
      ]
     },
     "execution_count": 168,
     "metadata": {},
     "output_type": "execute_result"
    }
   ],
   "source": [
    "FIVE_DAYS_TO_END = DAYS_IN_MONTH - n\n",
    "FIVE_DAYS_TO_END"
   ]
  },
  {
   "cell_type": "code",
   "execution_count": 192,
   "id": "079e0e8d",
   "metadata": {},
   "outputs": [],
   "source": [
    "n_days_volume_run_rate = n_days_before_monthend.groupby('month_name').sum('transaction_amount').reset_index()"
   ]
  },
  {
   "cell_type": "code",
   "execution_count": 194,
   "id": "4d054cdb",
   "metadata": {},
   "outputs": [],
   "source": [
    "n_days_volume_run_rate.rename(columns={'transaction_amount': 'total_volume'}, inplace=True)"
   ]
  },
  {
   "cell_type": "code",
   "execution_count": 195,
   "id": "cd940923",
   "metadata": {},
   "outputs": [],
   "source": [
    "n_days_volume_run_rate['volume_run_rate'] = n_days_volume_run_rate['total_volume']/FIVE_DAYS_TO_END"
   ]
  },
  {
   "cell_type": "code",
   "execution_count": 196,
   "id": "37675548",
   "metadata": {},
   "outputs": [
    {
     "data": {
      "text/plain": [
       "month_name          object\n",
       "total_volume         int64\n",
       "volume_run_rate    float64\n",
       "dtype: object"
      ]
     },
     "execution_count": 196,
     "metadata": {},
     "output_type": "execute_result"
    }
   ],
   "source": [
    "n_days_volume_run_rate.dtypes"
   ]
  },
  {
   "cell_type": "code",
   "execution_count": 197,
   "id": "caf22b8e",
   "metadata": {},
   "outputs": [
    {
     "data": {
      "text/html": [
       "<div>\n",
       "<style scoped>\n",
       "    .dataframe tbody tr th:only-of-type {\n",
       "        vertical-align: middle;\n",
       "    }\n",
       "\n",
       "    .dataframe tbody tr th {\n",
       "        vertical-align: top;\n",
       "    }\n",
       "\n",
       "    .dataframe thead th {\n",
       "        text-align: right;\n",
       "    }\n",
       "</style>\n",
       "<table border=\"1\" class=\"dataframe\">\n",
       "  <thead>\n",
       "    <tr style=\"text-align: right;\">\n",
       "      <th></th>\n",
       "      <th>month_name</th>\n",
       "      <th>total_volume</th>\n",
       "      <th>volume_run_rate</th>\n",
       "    </tr>\n",
       "  </thead>\n",
       "  <tbody>\n",
       "    <tr>\n",
       "      <th>0</th>\n",
       "      <td>December</td>\n",
       "      <td>287450</td>\n",
       "      <td>11055.769231</td>\n",
       "    </tr>\n",
       "    <tr>\n",
       "      <th>1</th>\n",
       "      <td>February</td>\n",
       "      <td>410340</td>\n",
       "      <td>15782.307692</td>\n",
       "    </tr>\n",
       "    <tr>\n",
       "      <th>2</th>\n",
       "      <td>January</td>\n",
       "      <td>285850</td>\n",
       "      <td>10994.230769</td>\n",
       "    </tr>\n",
       "    <tr>\n",
       "      <th>3</th>\n",
       "      <td>March</td>\n",
       "      <td>359463</td>\n",
       "      <td>13825.500000</td>\n",
       "    </tr>\n",
       "    <tr>\n",
       "      <th>4</th>\n",
       "      <td>November</td>\n",
       "      <td>176800</td>\n",
       "      <td>6800.000000</td>\n",
       "    </tr>\n",
       "    <tr>\n",
       "      <th>5</th>\n",
       "      <td>October</td>\n",
       "      <td>155600</td>\n",
       "      <td>5984.615385</td>\n",
       "    </tr>\n",
       "    <tr>\n",
       "      <th>6</th>\n",
       "      <td>September</td>\n",
       "      <td>127850</td>\n",
       "      <td>4917.307692</td>\n",
       "    </tr>\n",
       "  </tbody>\n",
       "</table>\n",
       "</div>"
      ],
      "text/plain": [
       "  month_name  total_volume  volume_run_rate\n",
       "0   December        287450     11055.769231\n",
       "1   February        410340     15782.307692\n",
       "2    January        285850     10994.230769\n",
       "3      March        359463     13825.500000\n",
       "4   November        176800      6800.000000\n",
       "5    October        155600      5984.615385\n",
       "6  September        127850      4917.307692"
      ]
     },
     "execution_count": 197,
     "metadata": {},
     "output_type": "execute_result"
    }
   ],
   "source": [
    "n_days_volume_run_rate"
   ]
  },
  {
   "cell_type": "markdown",
   "id": "eb284344",
   "metadata": {},
   "source": [
    "### Now we'll use the two new datasets to estimate the volume by the end of March"
   ]
  },
  {
   "cell_type": "code",
   "execution_count": 204,
   "id": "90d141a6",
   "metadata": {},
   "outputs": [],
   "source": [
    "# Add number of days used to calculate the volume run rates..\n",
    "# add column 'number_of_days' = 31 to the first dataset and\n",
    "# add 26 for dataset that consist of 5 days to the end of month..\n",
    "\n",
    "n_days_volume_run_rate['number_of_days'] = 26\n",
    "volume_of_months['number_of_days'] = 31\n"
   ]
  },
  {
   "cell_type": "code",
   "execution_count": 205,
   "id": "02ade4fd",
   "metadata": {},
   "outputs": [],
   "source": [
    "# combine the two volume run rate datasets..\n",
    "\n",
    "df = pd.concat([volume_of_months, n_days_volume_run_rate], axis=0)"
   ]
  },
  {
   "cell_type": "code",
   "execution_count": 206,
   "id": "0615c952",
   "metadata": {},
   "outputs": [
    {
     "data": {
      "text/html": [
       "<div>\n",
       "<style scoped>\n",
       "    .dataframe tbody tr th:only-of-type {\n",
       "        vertical-align: middle;\n",
       "    }\n",
       "\n",
       "    .dataframe tbody tr th {\n",
       "        vertical-align: top;\n",
       "    }\n",
       "\n",
       "    .dataframe thead th {\n",
       "        text-align: right;\n",
       "    }\n",
       "</style>\n",
       "<table border=\"1\" class=\"dataframe\">\n",
       "  <thead>\n",
       "    <tr style=\"text-align: right;\">\n",
       "      <th></th>\n",
       "      <th>month_name</th>\n",
       "      <th>total_volume</th>\n",
       "      <th>volume_run_rate</th>\n",
       "      <th>number_of_days</th>\n",
       "    </tr>\n",
       "  </thead>\n",
       "  <tbody>\n",
       "    <tr>\n",
       "      <th>0</th>\n",
       "      <td>December</td>\n",
       "      <td>289850</td>\n",
       "      <td>9350.000000</td>\n",
       "      <td>31</td>\n",
       "    </tr>\n",
       "    <tr>\n",
       "      <th>1</th>\n",
       "      <td>February</td>\n",
       "      <td>414240</td>\n",
       "      <td>13362.580645</td>\n",
       "      <td>31</td>\n",
       "    </tr>\n",
       "    <tr>\n",
       "      <th>2</th>\n",
       "      <td>January</td>\n",
       "      <td>294150</td>\n",
       "      <td>9488.709677</td>\n",
       "      <td>31</td>\n",
       "    </tr>\n",
       "    <tr>\n",
       "      <th>3</th>\n",
       "      <td>November</td>\n",
       "      <td>176800</td>\n",
       "      <td>5703.225806</td>\n",
       "      <td>31</td>\n",
       "    </tr>\n",
       "    <tr>\n",
       "      <th>4</th>\n",
       "      <td>October</td>\n",
       "      <td>160900</td>\n",
       "      <td>5190.322581</td>\n",
       "      <td>31</td>\n",
       "    </tr>\n",
       "    <tr>\n",
       "      <th>5</th>\n",
       "      <td>September</td>\n",
       "      <td>132350</td>\n",
       "      <td>4269.354839</td>\n",
       "      <td>31</td>\n",
       "    </tr>\n",
       "    <tr>\n",
       "      <th>0</th>\n",
       "      <td>December</td>\n",
       "      <td>287450</td>\n",
       "      <td>11055.769231</td>\n",
       "      <td>26</td>\n",
       "    </tr>\n",
       "    <tr>\n",
       "      <th>1</th>\n",
       "      <td>February</td>\n",
       "      <td>410340</td>\n",
       "      <td>15782.307692</td>\n",
       "      <td>26</td>\n",
       "    </tr>\n",
       "    <tr>\n",
       "      <th>2</th>\n",
       "      <td>January</td>\n",
       "      <td>285850</td>\n",
       "      <td>10994.230769</td>\n",
       "      <td>26</td>\n",
       "    </tr>\n",
       "    <tr>\n",
       "      <th>3</th>\n",
       "      <td>March</td>\n",
       "      <td>359463</td>\n",
       "      <td>13825.500000</td>\n",
       "      <td>26</td>\n",
       "    </tr>\n",
       "    <tr>\n",
       "      <th>4</th>\n",
       "      <td>November</td>\n",
       "      <td>176800</td>\n",
       "      <td>6800.000000</td>\n",
       "      <td>26</td>\n",
       "    </tr>\n",
       "    <tr>\n",
       "      <th>5</th>\n",
       "      <td>October</td>\n",
       "      <td>155600</td>\n",
       "      <td>5984.615385</td>\n",
       "      <td>26</td>\n",
       "    </tr>\n",
       "    <tr>\n",
       "      <th>6</th>\n",
       "      <td>September</td>\n",
       "      <td>127850</td>\n",
       "      <td>4917.307692</td>\n",
       "      <td>26</td>\n",
       "    </tr>\n",
       "  </tbody>\n",
       "</table>\n",
       "</div>"
      ],
      "text/plain": [
       "  month_name  total_volume  volume_run_rate  number_of_days\n",
       "0   December        289850      9350.000000              31\n",
       "1   February        414240     13362.580645              31\n",
       "2    January        294150      9488.709677              31\n",
       "3   November        176800      5703.225806              31\n",
       "4    October        160900      5190.322581              31\n",
       "5  September        132350      4269.354839              31\n",
       "0   December        287450     11055.769231              26\n",
       "1   February        410340     15782.307692              26\n",
       "2    January        285850     10994.230769              26\n",
       "3      March        359463     13825.500000              26\n",
       "4   November        176800      6800.000000              26\n",
       "5    October        155600      5984.615385              26\n",
       "6  September        127850      4917.307692              26"
      ]
     },
     "execution_count": 206,
     "metadata": {},
     "output_type": "execute_result"
    }
   ],
   "source": [
    "df"
   ]
  },
  {
   "cell_type": "code",
   "execution_count": 212,
   "id": "e86192cc",
   "metadata": {},
   "outputs": [],
   "source": [
    "# add another column known as month_number which represents the number of the month.\n",
    "# Jan = 1, feb = 2 ......and so on.\n",
    "\n",
    "month_mappings = {\n",
    "    'January' : 1,\n",
    "    'February' : 2,\n",
    "    'March' : 3,\n",
    "    'September' : 9,\n",
    "    'October' : 10,\n",
    "    'November' : 11,\n",
    "    'December' : 12\n",
    "}\n",
    "\n",
    "df['month_number'] = df['month_name'].map(month_mappings)"
   ]
  },
  {
   "cell_type": "code",
   "execution_count": 213,
   "id": "ee876253",
   "metadata": {
    "scrolled": true
   },
   "outputs": [
    {
     "data": {
      "text/html": [
       "<div>\n",
       "<style scoped>\n",
       "    .dataframe tbody tr th:only-of-type {\n",
       "        vertical-align: middle;\n",
       "    }\n",
       "\n",
       "    .dataframe tbody tr th {\n",
       "        vertical-align: top;\n",
       "    }\n",
       "\n",
       "    .dataframe thead th {\n",
       "        text-align: right;\n",
       "    }\n",
       "</style>\n",
       "<table border=\"1\" class=\"dataframe\">\n",
       "  <thead>\n",
       "    <tr style=\"text-align: right;\">\n",
       "      <th></th>\n",
       "      <th>month_name</th>\n",
       "      <th>total_volume</th>\n",
       "      <th>volume_run_rate</th>\n",
       "      <th>number_of_days</th>\n",
       "      <th>month_number</th>\n",
       "    </tr>\n",
       "  </thead>\n",
       "  <tbody>\n",
       "    <tr>\n",
       "      <th>0</th>\n",
       "      <td>December</td>\n",
       "      <td>289850</td>\n",
       "      <td>9350.000000</td>\n",
       "      <td>31</td>\n",
       "      <td>12</td>\n",
       "    </tr>\n",
       "    <tr>\n",
       "      <th>1</th>\n",
       "      <td>February</td>\n",
       "      <td>414240</td>\n",
       "      <td>13362.580645</td>\n",
       "      <td>31</td>\n",
       "      <td>2</td>\n",
       "    </tr>\n",
       "    <tr>\n",
       "      <th>2</th>\n",
       "      <td>January</td>\n",
       "      <td>294150</td>\n",
       "      <td>9488.709677</td>\n",
       "      <td>31</td>\n",
       "      <td>1</td>\n",
       "    </tr>\n",
       "    <tr>\n",
       "      <th>3</th>\n",
       "      <td>November</td>\n",
       "      <td>176800</td>\n",
       "      <td>5703.225806</td>\n",
       "      <td>31</td>\n",
       "      <td>11</td>\n",
       "    </tr>\n",
       "    <tr>\n",
       "      <th>4</th>\n",
       "      <td>October</td>\n",
       "      <td>160900</td>\n",
       "      <td>5190.322581</td>\n",
       "      <td>31</td>\n",
       "      <td>10</td>\n",
       "    </tr>\n",
       "    <tr>\n",
       "      <th>5</th>\n",
       "      <td>September</td>\n",
       "      <td>132350</td>\n",
       "      <td>4269.354839</td>\n",
       "      <td>31</td>\n",
       "      <td>9</td>\n",
       "    </tr>\n",
       "    <tr>\n",
       "      <th>0</th>\n",
       "      <td>December</td>\n",
       "      <td>287450</td>\n",
       "      <td>11055.769231</td>\n",
       "      <td>26</td>\n",
       "      <td>12</td>\n",
       "    </tr>\n",
       "    <tr>\n",
       "      <th>1</th>\n",
       "      <td>February</td>\n",
       "      <td>410340</td>\n",
       "      <td>15782.307692</td>\n",
       "      <td>26</td>\n",
       "      <td>2</td>\n",
       "    </tr>\n",
       "    <tr>\n",
       "      <th>2</th>\n",
       "      <td>January</td>\n",
       "      <td>285850</td>\n",
       "      <td>10994.230769</td>\n",
       "      <td>26</td>\n",
       "      <td>1</td>\n",
       "    </tr>\n",
       "    <tr>\n",
       "      <th>3</th>\n",
       "      <td>March</td>\n",
       "      <td>359463</td>\n",
       "      <td>13825.500000</td>\n",
       "      <td>26</td>\n",
       "      <td>3</td>\n",
       "    </tr>\n",
       "    <tr>\n",
       "      <th>4</th>\n",
       "      <td>November</td>\n",
       "      <td>176800</td>\n",
       "      <td>6800.000000</td>\n",
       "      <td>26</td>\n",
       "      <td>11</td>\n",
       "    </tr>\n",
       "    <tr>\n",
       "      <th>5</th>\n",
       "      <td>October</td>\n",
       "      <td>155600</td>\n",
       "      <td>5984.615385</td>\n",
       "      <td>26</td>\n",
       "      <td>10</td>\n",
       "    </tr>\n",
       "    <tr>\n",
       "      <th>6</th>\n",
       "      <td>September</td>\n",
       "      <td>127850</td>\n",
       "      <td>4917.307692</td>\n",
       "      <td>26</td>\n",
       "      <td>9</td>\n",
       "    </tr>\n",
       "  </tbody>\n",
       "</table>\n",
       "</div>"
      ],
      "text/plain": [
       "  month_name  total_volume  volume_run_rate  number_of_days  month_number\n",
       "0   December        289850      9350.000000              31            12\n",
       "1   February        414240     13362.580645              31             2\n",
       "2    January        294150      9488.709677              31             1\n",
       "3   November        176800      5703.225806              31            11\n",
       "4    October        160900      5190.322581              31            10\n",
       "5  September        132350      4269.354839              31             9\n",
       "0   December        287450     11055.769231              26            12\n",
       "1   February        410340     15782.307692              26             2\n",
       "2    January        285850     10994.230769              26             1\n",
       "3      March        359463     13825.500000              26             3\n",
       "4   November        176800      6800.000000              26            11\n",
       "5    October        155600      5984.615385              26            10\n",
       "6  September        127850      4917.307692              26             9"
      ]
     },
     "execution_count": 213,
     "metadata": {},
     "output_type": "execute_result"
    }
   ],
   "source": [
    "df"
   ]
  },
  {
   "cell_type": "code",
   "execution_count": 214,
   "id": "cbe619c3",
   "metadata": {},
   "outputs": [
    {
     "data": {
      "text/plain": [
       "Index(['month_name', 'total_volume', 'volume_run_rate', 'number_of_days',\n",
       "       'month_number'],\n",
       "      dtype='object')"
      ]
     },
     "execution_count": 214,
     "metadata": {},
     "output_type": "execute_result"
    }
   ],
   "source": [
    "df.columns"
   ]
  },
  {
   "cell_type": "code",
   "execution_count": 222,
   "id": "53cdd685",
   "metadata": {},
   "outputs": [],
   "source": [
    "features = ['number_of_days', 'month_number']\n",
    "target_1 = ['volume_run_rate']\n",
    "target_2 = ['total_volume']"
   ]
  },
  {
   "cell_type": "markdown",
   "id": "847eade7",
   "metadata": {},
   "source": [
    "### Let's use a simple linear regression Or Random Forest regressor to estimate the volume run rate by the end of march."
   ]
  },
  {
   "cell_type": "code",
   "execution_count": 217,
   "id": "ff85bb39",
   "metadata": {},
   "outputs": [],
   "source": [
    "# import estimators/predictors\n",
    "from sklearn.linear_model import LinearRegression\n",
    "from sklearn.ensemble import RandomForestRegressor"
   ]
  },
  {
   "cell_type": "code",
   "execution_count": 256,
   "id": "76e4843f",
   "metadata": {},
   "outputs": [],
   "source": [
    "estimator_1 =  RandomForestRegressor()\n",
    "estimator_2 = RandomForestRegressor()"
   ]
  },
  {
   "cell_type": "code",
   "execution_count": 267,
   "id": "97373a96",
   "metadata": {},
   "outputs": [
    {
     "data": {
      "text/html": [
       "<style>#sk-container-id-7 {color: black;background-color: white;}#sk-container-id-7 pre{padding: 0;}#sk-container-id-7 div.sk-toggleable {background-color: white;}#sk-container-id-7 label.sk-toggleable__label {cursor: pointer;display: block;width: 100%;margin-bottom: 0;padding: 0.3em;box-sizing: border-box;text-align: center;}#sk-container-id-7 label.sk-toggleable__label-arrow:before {content: \"▸\";float: left;margin-right: 0.25em;color: #696969;}#sk-container-id-7 label.sk-toggleable__label-arrow:hover:before {color: black;}#sk-container-id-7 div.sk-estimator:hover label.sk-toggleable__label-arrow:before {color: black;}#sk-container-id-7 div.sk-toggleable__content {max-height: 0;max-width: 0;overflow: hidden;text-align: left;background-color: #f0f8ff;}#sk-container-id-7 div.sk-toggleable__content pre {margin: 0.2em;color: black;border-radius: 0.25em;background-color: #f0f8ff;}#sk-container-id-7 input.sk-toggleable__control:checked~div.sk-toggleable__content {max-height: 200px;max-width: 100%;overflow: auto;}#sk-container-id-7 input.sk-toggleable__control:checked~label.sk-toggleable__label-arrow:before {content: \"▾\";}#sk-container-id-7 div.sk-estimator input.sk-toggleable__control:checked~label.sk-toggleable__label {background-color: #d4ebff;}#sk-container-id-7 div.sk-label input.sk-toggleable__control:checked~label.sk-toggleable__label {background-color: #d4ebff;}#sk-container-id-7 input.sk-hidden--visually {border: 0;clip: rect(1px 1px 1px 1px);clip: rect(1px, 1px, 1px, 1px);height: 1px;margin: -1px;overflow: hidden;padding: 0;position: absolute;width: 1px;}#sk-container-id-7 div.sk-estimator {font-family: monospace;background-color: #f0f8ff;border: 1px dotted black;border-radius: 0.25em;box-sizing: border-box;margin-bottom: 0.5em;}#sk-container-id-7 div.sk-estimator:hover {background-color: #d4ebff;}#sk-container-id-7 div.sk-parallel-item::after {content: \"\";width: 100%;border-bottom: 1px solid gray;flex-grow: 1;}#sk-container-id-7 div.sk-label:hover label.sk-toggleable__label {background-color: #d4ebff;}#sk-container-id-7 div.sk-serial::before {content: \"\";position: absolute;border-left: 1px solid gray;box-sizing: border-box;top: 0;bottom: 0;left: 50%;z-index: 0;}#sk-container-id-7 div.sk-serial {display: flex;flex-direction: column;align-items: center;background-color: white;padding-right: 0.2em;padding-left: 0.2em;position: relative;}#sk-container-id-7 div.sk-item {position: relative;z-index: 1;}#sk-container-id-7 div.sk-parallel {display: flex;align-items: stretch;justify-content: center;background-color: white;position: relative;}#sk-container-id-7 div.sk-item::before, #sk-container-id-7 div.sk-parallel-item::before {content: \"\";position: absolute;border-left: 1px solid gray;box-sizing: border-box;top: 0;bottom: 0;left: 50%;z-index: -1;}#sk-container-id-7 div.sk-parallel-item {display: flex;flex-direction: column;z-index: 1;position: relative;background-color: white;}#sk-container-id-7 div.sk-parallel-item:first-child::after {align-self: flex-end;width: 50%;}#sk-container-id-7 div.sk-parallel-item:last-child::after {align-self: flex-start;width: 50%;}#sk-container-id-7 div.sk-parallel-item:only-child::after {width: 0;}#sk-container-id-7 div.sk-dashed-wrapped {border: 1px dashed gray;margin: 0 0.4em 0.5em 0.4em;box-sizing: border-box;padding-bottom: 0.4em;background-color: white;}#sk-container-id-7 div.sk-label label {font-family: monospace;font-weight: bold;display: inline-block;line-height: 1.2em;}#sk-container-id-7 div.sk-label-container {text-align: center;}#sk-container-id-7 div.sk-container {/* jupyter's `normalize.less` sets `[hidden] { display: none; }` but bootstrap.min.css set `[hidden] { display: none !important; }` so we also need the `!important` here to be able to override the default hidden behavior on the sphinx rendered scikit-learn.org. See: https://github.com/scikit-learn/scikit-learn/issues/21755 */display: inline-block !important;position: relative;}#sk-container-id-7 div.sk-text-repr-fallback {display: none;}</style><div id=\"sk-container-id-7\" class=\"sk-top-container\"><div class=\"sk-text-repr-fallback\"><pre>RandomForestRegressor()</pre><b>In a Jupyter environment, please rerun this cell to show the HTML representation or trust the notebook. <br />On GitHub, the HTML representation is unable to render, please try loading this page with nbviewer.org.</b></div><div class=\"sk-container\" hidden><div class=\"sk-item\"><div class=\"sk-estimator sk-toggleable\"><input class=\"sk-toggleable__control sk-hidden--visually\" id=\"sk-estimator-id-7\" type=\"checkbox\" checked><label for=\"sk-estimator-id-7\" class=\"sk-toggleable__label sk-toggleable__label-arrow\">RandomForestRegressor</label><div class=\"sk-toggleable__content\"><pre>RandomForestRegressor()</pre></div></div></div></div></div>"
      ],
      "text/plain": [
       "RandomForestRegressor()"
      ]
     },
     "execution_count": 267,
     "metadata": {},
     "output_type": "execute_result"
    }
   ],
   "source": [
    "estimator_1.fit(df[features], df[target_1])"
   ]
  },
  {
   "cell_type": "code",
   "execution_count": 268,
   "id": "22325bd8",
   "metadata": {},
   "outputs": [
    {
     "data": {
      "text/html": [
       "<style>#sk-container-id-8 {color: black;background-color: white;}#sk-container-id-8 pre{padding: 0;}#sk-container-id-8 div.sk-toggleable {background-color: white;}#sk-container-id-8 label.sk-toggleable__label {cursor: pointer;display: block;width: 100%;margin-bottom: 0;padding: 0.3em;box-sizing: border-box;text-align: center;}#sk-container-id-8 label.sk-toggleable__label-arrow:before {content: \"▸\";float: left;margin-right: 0.25em;color: #696969;}#sk-container-id-8 label.sk-toggleable__label-arrow:hover:before {color: black;}#sk-container-id-8 div.sk-estimator:hover label.sk-toggleable__label-arrow:before {color: black;}#sk-container-id-8 div.sk-toggleable__content {max-height: 0;max-width: 0;overflow: hidden;text-align: left;background-color: #f0f8ff;}#sk-container-id-8 div.sk-toggleable__content pre {margin: 0.2em;color: black;border-radius: 0.25em;background-color: #f0f8ff;}#sk-container-id-8 input.sk-toggleable__control:checked~div.sk-toggleable__content {max-height: 200px;max-width: 100%;overflow: auto;}#sk-container-id-8 input.sk-toggleable__control:checked~label.sk-toggleable__label-arrow:before {content: \"▾\";}#sk-container-id-8 div.sk-estimator input.sk-toggleable__control:checked~label.sk-toggleable__label {background-color: #d4ebff;}#sk-container-id-8 div.sk-label input.sk-toggleable__control:checked~label.sk-toggleable__label {background-color: #d4ebff;}#sk-container-id-8 input.sk-hidden--visually {border: 0;clip: rect(1px 1px 1px 1px);clip: rect(1px, 1px, 1px, 1px);height: 1px;margin: -1px;overflow: hidden;padding: 0;position: absolute;width: 1px;}#sk-container-id-8 div.sk-estimator {font-family: monospace;background-color: #f0f8ff;border: 1px dotted black;border-radius: 0.25em;box-sizing: border-box;margin-bottom: 0.5em;}#sk-container-id-8 div.sk-estimator:hover {background-color: #d4ebff;}#sk-container-id-8 div.sk-parallel-item::after {content: \"\";width: 100%;border-bottom: 1px solid gray;flex-grow: 1;}#sk-container-id-8 div.sk-label:hover label.sk-toggleable__label {background-color: #d4ebff;}#sk-container-id-8 div.sk-serial::before {content: \"\";position: absolute;border-left: 1px solid gray;box-sizing: border-box;top: 0;bottom: 0;left: 50%;z-index: 0;}#sk-container-id-8 div.sk-serial {display: flex;flex-direction: column;align-items: center;background-color: white;padding-right: 0.2em;padding-left: 0.2em;position: relative;}#sk-container-id-8 div.sk-item {position: relative;z-index: 1;}#sk-container-id-8 div.sk-parallel {display: flex;align-items: stretch;justify-content: center;background-color: white;position: relative;}#sk-container-id-8 div.sk-item::before, #sk-container-id-8 div.sk-parallel-item::before {content: \"\";position: absolute;border-left: 1px solid gray;box-sizing: border-box;top: 0;bottom: 0;left: 50%;z-index: -1;}#sk-container-id-8 div.sk-parallel-item {display: flex;flex-direction: column;z-index: 1;position: relative;background-color: white;}#sk-container-id-8 div.sk-parallel-item:first-child::after {align-self: flex-end;width: 50%;}#sk-container-id-8 div.sk-parallel-item:last-child::after {align-self: flex-start;width: 50%;}#sk-container-id-8 div.sk-parallel-item:only-child::after {width: 0;}#sk-container-id-8 div.sk-dashed-wrapped {border: 1px dashed gray;margin: 0 0.4em 0.5em 0.4em;box-sizing: border-box;padding-bottom: 0.4em;background-color: white;}#sk-container-id-8 div.sk-label label {font-family: monospace;font-weight: bold;display: inline-block;line-height: 1.2em;}#sk-container-id-8 div.sk-label-container {text-align: center;}#sk-container-id-8 div.sk-container {/* jupyter's `normalize.less` sets `[hidden] { display: none; }` but bootstrap.min.css set `[hidden] { display: none !important; }` so we also need the `!important` here to be able to override the default hidden behavior on the sphinx rendered scikit-learn.org. See: https://github.com/scikit-learn/scikit-learn/issues/21755 */display: inline-block !important;position: relative;}#sk-container-id-8 div.sk-text-repr-fallback {display: none;}</style><div id=\"sk-container-id-8\" class=\"sk-top-container\"><div class=\"sk-text-repr-fallback\"><pre>RandomForestRegressor()</pre><b>In a Jupyter environment, please rerun this cell to show the HTML representation or trust the notebook. <br />On GitHub, the HTML representation is unable to render, please try loading this page with nbviewer.org.</b></div><div class=\"sk-container\" hidden><div class=\"sk-item\"><div class=\"sk-estimator sk-toggleable\"><input class=\"sk-toggleable__control sk-hidden--visually\" id=\"sk-estimator-id-8\" type=\"checkbox\" checked><label for=\"sk-estimator-id-8\" class=\"sk-toggleable__label sk-toggleable__label-arrow\">RandomForestRegressor</label><div class=\"sk-toggleable__content\"><pre>RandomForestRegressor()</pre></div></div></div></div></div>"
      ],
      "text/plain": [
       "RandomForestRegressor()"
      ]
     },
     "execution_count": 268,
     "metadata": {},
     "output_type": "execute_result"
    }
   ],
   "source": [
    "estimator_2.fit(df[features], df[target_2])"
   ]
  },
  {
   "cell_type": "code",
   "execution_count": 271,
   "id": "6e103f5d",
   "metadata": {},
   "outputs": [
    {
     "name": "stdout",
     "output_type": "stream",
     "text": [
      "March volume run rate estimate is: 13226.089975186102\n"
     ]
    }
   ],
   "source": [
    "print(f\"March volume run rate estimate is: {estimator_1.predict(np.array([31, 3]).reshape(1,-1))[0]}\")"
   ]
  },
  {
   "cell_type": "code",
   "execution_count": 270,
   "id": "e635040c",
   "metadata": {},
   "outputs": [
    {
     "name": "stdout",
     "output_type": "stream",
     "text": [
      "March total volume estimate is: 371610.6\n"
     ]
    }
   ],
   "source": [
    "print(f\"March total volume estimate is: {estimator_2.predict(np.array([31, 3]).reshape(1,-1))[0]}\")"
   ]
  },
  {
   "cell_type": "markdown",
   "id": "877cfe8e",
   "metadata": {},
   "source": [
    "## MySQL Query\n",
    "\n",
    "SELECT\n",
    "\trequest_id,\n",
    "\tcustomer_id,\n",
    "\trequest_datetime,\n",
    "\trequest_amount,\n",
    "CASE\n",
    "\t\t\n",
    "\t\tWHEN RANK() OVER ( PARTITION BY customer_id ORDER BY request_datetime ASC )= 1 THEN\n",
    "\t\t1 ELSE 0 \n",
    "\tEND AS first_request_flag \n",
    "FROM\n",
    "\trequests;"
   ]
  }
 ],
 "metadata": {
  "kernelspec": {
   "display_name": "Python 3 (ipykernel)",
   "language": "python",
   "name": "python3"
  },
  "language_info": {
   "codemirror_mode": {
    "name": "ipython",
    "version": 3
   },
   "file_extension": ".py",
   "mimetype": "text/x-python",
   "name": "python",
   "nbconvert_exporter": "python",
   "pygments_lexer": "ipython3",
   "version": "3.10.7"
  }
 },
 "nbformat": 4,
 "nbformat_minor": 5
}
